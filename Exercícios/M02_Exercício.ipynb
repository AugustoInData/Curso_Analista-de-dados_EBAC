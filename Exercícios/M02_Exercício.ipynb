{
  "nbformat": 4,
  "nbformat_minor": 0,
  "metadata": {
    "colab": {
      "provenance": [],
      "toc_visible": true
    },
    "kernelspec": {
      "name": "python3",
      "display_name": "Python 3"
    }
  },
  "cells": [
    {
      "cell_type": "markdown",
      "metadata": {
        "id": "KJqp9AANOCtf"
      },
      "source": [
        "<img src=\"https://raw.githubusercontent.com/andre-marcos-perez/ebac-course-utils/main/media/logo/newebac_logo_black_half.png\" alt=\"ebac-logo\">\n",
        "\n",
        "---\n",
        "\n",
        "# **Módulo** | Python: Estruturas de Dados\n",
        "Caderno de **Exercícios**<br>\n",
        "Professor [André Perez](https://www.linkedin.com/in/andremarcosperez/)\n",
        "\n",
        "---"
      ]
    },
    {
      "cell_type": "markdown",
      "metadata": {
        "id": "d9jDtUbDOE1-"
      },
      "source": [
        "# **Tópicos**\n",
        "\n",
        "<ol type=\"1\">\n",
        "  <li>Listas;</li>\n",
        "  <li>Conjuntos;</li>\n",
        "  <li>Dicionários.</li>\n",
        "</ol>"
      ]
    },
    {
      "cell_type": "markdown",
      "metadata": {
        "id": "SmoHgt-lwkpD"
      },
      "source": [
        "---"
      ]
    },
    {
      "cell_type": "markdown",
      "metadata": {
        "id": "GABI6OW8OfQ2"
      },
      "source": [
        "# **Exercícios**"
      ]
    },
    {
      "cell_type": "markdown",
      "metadata": {
        "id": "muD1vxozykSC"
      },
      "source": [
        "## 1\\. Listas"
      ]
    },
    {
      "cell_type": "markdown",
      "metadata": {
        "id": "ahrFfCuBxJKs"
      },
      "source": [
        "Criei uma lista chamada `filmes` com o nome dos 10 primeiros filmes mais bem avaliados no site no [IMDB](https://www.imdb.com/chart/top/). Imprima o resultado."
      ]
    },
    {
      "cell_type": "code",
      "metadata": {
        "id": "OgL6Hv3bzOHI",
        "colab": {
          "base_uri": "https://localhost:8080/"
        },
        "outputId": "2b8ef30e-19d9-40e7-c78c-1d36cf1dd029"
      },
      "source": [
        "filmes = ['Um sonho de liberdade','O Poderoso Chefão','Batman - O Cavaleiro das Trevas','O Poderoso Chefão II','12 Homens e uma Sentença','A Lista de Schindler','O Senhor dos Anéis: O Retorno do Rei','Pulp Fiction - Tempo de Violência','O Senhor dos Anéis: A Sociedade do Anel','Três Homens em Conflito']\n",
        "\n",
        "print(filmes)"
      ],
      "execution_count": 3,
      "outputs": [
        {
          "output_type": "stream",
          "name": "stdout",
          "text": [
            "['Um sonho de liberdade', 'O Poderoso Chefão', 'Batman - O Cavaleiro das Trevas', 'O Poderoso Chefão II', '12 Homens e uma Sentença', 'A Lista de Schindler', 'O Senhor dos Anéis: O Retorno do Rei', 'Pulp Fiction - Tempo de Violência', 'O Senhor dos Anéis: A Sociedade do Anel', 'Três Homens em Conflito']\n"
          ]
        }
      ]
    },
    {
      "cell_type": "markdown",
      "metadata": {
        "id": "KI9zQRT2xa7m"
      },
      "source": [
        "Simule a movimentação do *ranking*. Utilize os métodos `insert` e `pop` para trocar a posição do primeiro e do segundo filme da lista. Imprima o resultado.\n",
        "\n"
      ]
    },
    {
      "cell_type": "code",
      "metadata": {
        "id": "zX3mA3_GzrXH",
        "colab": {
          "base_uri": "https://localhost:8080/"
        },
        "outputId": "c962ed43-c1a8-486f-b270-d2022ba82a40"
      },
      "source": [
        "filmes = ['Um sonho de liberdade','O Poderoso Chefão','Batman - O Cavaleiro das Trevas','O Poderoso Chefão II','12 Homens e uma Sentença','A Lista de Schindler','O Senhor dos Anéis: O Retorno do Rei','Pulp Fiction - Tempo de Violência','O Senhor dos Anéis: A Sociedade do Anel','Três Homens em Conflito']\n",
        "\n",
        "filmes.insert(0, 'O Poderoso Chefão')\n",
        "filmes.insert(1, 'Um Sonho de Liberdade')\n",
        "\n",
        "remove_position3 = filmes.pop(3)\n",
        "remove_position4 = filmes.pop(2)\n",
        "\n",
        "print(filmes)"
      ],
      "execution_count": 4,
      "outputs": [
        {
          "output_type": "stream",
          "name": "stdout",
          "text": [
            "['O Poderoso Chefão', 'Um Sonho de Liberdade', 'Batman - O Cavaleiro das Trevas', 'O Poderoso Chefão II', '12 Homens e uma Sentença', 'A Lista de Schindler', 'O Senhor dos Anéis: O Retorno do Rei', 'Pulp Fiction - Tempo de Violência', 'O Senhor dos Anéis: A Sociedade do Anel', 'Três Homens em Conflito']\n"
          ]
        }
      ]
    },
    {
      "cell_type": "markdown",
      "metadata": {
        "id": "zMN1Q3jdwoJm"
      },
      "source": [
        "---"
      ]
    },
    {
      "cell_type": "markdown",
      "metadata": {
        "id": "lxa5L6uF0ZJE"
      },
      "source": [
        "## 2\\. Conjuntos"
      ]
    },
    {
      "cell_type": "markdown",
      "metadata": {
        "id": "9JahS2Kj0d5u"
      },
      "source": [
        "Aconteceu um erro no seu *ranking*. Simule a duplicação dos três últimos filmes da lista. Imprima o resultado."
      ]
    },
    {
      "cell_type": "code",
      "metadata": {
        "id": "BnjnLBNC6PGe",
        "colab": {
          "base_uri": "https://localhost:8080/"
        },
        "outputId": "c7dcd0ca-37c1-4900-ed5e-996ca509e6c6"
      },
      "source": [
        "filmes.append('Três Homens em Conflito')\n",
        "filmes.insert(8,'O Senhor dos Anéis: A Sociedade do Anel')\n",
        "filmes.insert(7,'Pulp Fiction - Tempo de Violência')\n",
        "\n",
        "print(filmes)\n",
        "print(len(filmes))"
      ],
      "execution_count": 5,
      "outputs": [
        {
          "output_type": "stream",
          "name": "stdout",
          "text": [
            "['O Poderoso Chefão', 'Um Sonho de Liberdade', 'Batman - O Cavaleiro das Trevas', 'O Poderoso Chefão II', '12 Homens e uma Sentença', 'A Lista de Schindler', 'O Senhor dos Anéis: O Retorno do Rei', 'Pulp Fiction - Tempo de Violência', 'Pulp Fiction - Tempo de Violência', 'O Senhor dos Anéis: A Sociedade do Anel', 'O Senhor dos Anéis: A Sociedade do Anel', 'Três Homens em Conflito', 'Três Homens em Conflito']\n",
            "13\n"
          ]
        }
      ]
    },
    {
      "cell_type": "markdown",
      "metadata": {
        "id": "suxTfCJB6ZiX"
      },
      "source": [
        "Utiliza a conversão `set` e `list` para remover os valores duplicados. Imprima o resultado."
      ]
    },
    {
      "cell_type": "code",
      "metadata": {
        "id": "ZvUGN-0n6joM",
        "colab": {
          "base_uri": "https://localhost:8080/"
        },
        "outputId": "4607fcbd-e4d0-4eb9-ec62-817daed1d020"
      },
      "source": [
        "filmes_nao_duplicados = list(set(filmes))\n",
        "\n",
        "print(filmes_nao_duplicados)\n",
        "print(len(filmes_nao_duplicados))"
      ],
      "execution_count": 6,
      "outputs": [
        {
          "output_type": "stream",
          "name": "stdout",
          "text": [
            "['Batman - O Cavaleiro das Trevas', 'O Poderoso Chefão II', 'O Senhor dos Anéis: A Sociedade do Anel', '12 Homens e uma Sentença', 'Pulp Fiction - Tempo de Violência', 'O Senhor dos Anéis: O Retorno do Rei', 'A Lista de Schindler', 'Um Sonho de Liberdade', 'Três Homens em Conflito', 'O Poderoso Chefão']\n",
            "10\n"
          ]
        }
      ]
    },
    {
      "cell_type": "markdown",
      "metadata": {
        "id": "ShkK35eQ6pAM"
      },
      "source": [
        "---"
      ]
    },
    {
      "cell_type": "markdown",
      "metadata": {
        "id": "COKF6UndDtgs"
      },
      "source": [
        "## 3\\. Dicionários"
      ]
    },
    {
      "cell_type": "markdown",
      "source": [
        "*   Neste momento, repita o passo a passo de criação da lista feita anteriormente: **uma lista** chamada `filmes` com o nome dos 10 primeiros filmes mais bem avaliados no site no IMDB.\n",
        "*   Adicione mais informações a essa estrutura de dados com o ano e a sinopse de cada filme.\n",
        "*   Os elementos da **lista** `filmes` devem ser dicionários no seguinte formato:\n",
        "        {'nome': <nome-do-filme>, 'ano': <ano do filme>, 'sinopse': <sinopse do filme>}"
      ],
      "metadata": {
        "id": "IZzCEEDTCswm"
      }
    },
    {
      "cell_type": "code",
      "metadata": {
        "id": "tu6MSFwGDnHv",
        "colab": {
          "base_uri": "https://localhost:8080/"
        },
        "outputId": "3437496a-bbcd-4d0d-8269-c78ce839b960"
      },
      "source": [
        "lista_melhores_filmes = []\n",
        "\n",
        "filme_1 = {'nome':'Um Sonho de Liberdade', 'ano':1994, 'sinopse':' O filme segue a história de Andy Dufresne, um banqueiro condenado injustamente por assassinato, que se torna uma figura central em uma amizade improvável na prisão de Shawshank. A narrativa destaca sua busca pela verdadeira liberdade e redenção.'}\n",
        "lista_melhores_filmes.append(filme_1)\n",
        "\n",
        "filme_2 = {'nome':'O Poderoso Chefão', 'ano':1972, 'sinopse':' Dirigido por Francis Ford Coppola, este épico do crime segue a saga da família Corleone, liderada por Don Vito Corleone. O filme explora temas de poder, lealdade e tragédia enquanto a família enfrenta desafios no mundo do crime organizado.'}\n",
        "lista_melhores_filmes.append(filme_2)\n",
        "\n",
        "filme_3 = {'nome':'Batman - O Cavaleiro das Trevas', 'ano':2008, 'sinopse':' Christopher Nolan dirige este capítulo sombrio da trilogia do Batman. O filme destaca a batalha entre Batman (Christian Bale) e o Coringa (Heath Ledger), explorando temas de caos, moralidade e identidade.'}\n",
        "lista_melhores_filmes.append(filme_3)\n",
        "\n",
        "filme_4 = {'nome':'O Poderoso Chefão II', 'ano':1974, 'sinopse':' Continuando a saga da família Corleone, este filme intercala a ascensão de Vito Corleone (Robert De Niro) ao poder com os desafios enfrentados por seu filho Michael Corleone (Al Pacino) na década de 1950.'}\n",
        "lista_melhores_filmes.append(filme_4)\n",
        "\n",
        "filme_5 = {'nome':'12 Homens e Uma Sentença', 'ano':1957, 'sinopse':' Este filme clássico de Sidney Lumet concentra-se em um júri que delibera sobre o destino de um jovem acusado de assassinato. O drama se desenrola enquanto os jurados confrontam preconceitos, dúvidas e a busca pela verdade.'}\n",
        "lista_melhores_filmes.append(filme_5)\n",
        "\n",
        "filme_6 = {'nome':'A Lista de Schindler', 'ano':1993, 'sinopse':' Dirigido por Steven Spielberg, o filme é baseado na história real de Oskar Schindler, um empresário alemão que salva a vida de mais de mil judeus durante o Holocausto, empregando-os em sua fábrica.'}\n",
        "lista_melhores_filmes.append(filme_6)\n",
        "\n",
        "filme_7 = {'nome':'O Senhor dos Anéis: O Retorno do Rei', 'ano':2003, 'sinopse':' O épico dirigido por Peter Jackson conclui a trilogia, mostrando a jornada de Frodo e Sam para destruir o Um Anel enquanto a Terra Média enfrenta a batalha final contra Sauron.'}\n",
        "lista_melhores_filmes.append(filme_7)\n",
        "\n",
        "filme_8 = {'nome':'Pulp Fiction - Tempo de Violência', 'ano':1994, 'sinopse':' Dirigido por Quentin Tarantino, o filme apresenta uma narrativa não linear que entrelaça várias histórias, explorando o submundo do crime de Los Angeles com diálogos marcantes e personagens peculiares.'}\n",
        "lista_melhores_filmes.append(filme_8)\n",
        "\n",
        "filme_9 = {'nome':'O Senhor dos Anéis: A Sociedade do Anel', 'ano':2001, 'sinopse':' O primeiro filme da trilogia segue a formação da Sociedade do Anel enquanto eles embarcam em uma jornada para destruir o Um Anel e derrotar o mal que ameaça a Terra Média.'}\n",
        "lista_melhores_filmes.append(filme_9)\n",
        "\n",
        "filme_10 = {'nome':'Três Homens em Conflito', 'ano':1966, 'sinopse':' Este clássico do spaghetti western, dirigido por Sergio Leone, conta a história de três caçadores de recompensas que buscam um tesouro enterrado durante a Guerra Civil Americana, enfrentando conflitos e traições ao longo do caminho.'}\n",
        "lista_melhores_filmes.append(filme_10)\n",
        "\n",
        "print(lista_melhores_filmes)"
      ],
      "execution_count": 7,
      "outputs": [
        {
          "output_type": "stream",
          "name": "stdout",
          "text": [
            "[{'nome': 'Um Sonho de Liberdade', 'ano': 1994, 'sinopse': ' O filme segue a história de Andy Dufresne, um banqueiro condenado injustamente por assassinato, que se torna uma figura central em uma amizade improvável na prisão de Shawshank. A narrativa destaca sua busca pela verdadeira liberdade e redenção.'}, {'nome': 'O Poderoso Chefão', 'ano': 1972, 'sinopse': ' Dirigido por Francis Ford Coppola, este épico do crime segue a saga da família Corleone, liderada por Don Vito Corleone. O filme explora temas de poder, lealdade e tragédia enquanto a família enfrenta desafios no mundo do crime organizado.'}, {'nome': 'Batman - O Cavaleiro das Trevas', 'ano': 2008, 'sinopse': ' Christopher Nolan dirige este capítulo sombrio da trilogia do Batman. O filme destaca a batalha entre Batman (Christian Bale) e o Coringa (Heath Ledger), explorando temas de caos, moralidade e identidade.'}, {'nome': 'O Poderoso Chefão II', 'ano': 1974, 'sinopse': ' Continuando a saga da família Corleone, este filme intercala a ascensão de Vito Corleone (Robert De Niro) ao poder com os desafios enfrentados por seu filho Michael Corleone (Al Pacino) na década de 1950.'}, {'nome': '12 Homens e Uma Sentença', 'ano': 1957, 'sinopse': ' Este filme clássico de Sidney Lumet concentra-se em um júri que delibera sobre o destino de um jovem acusado de assassinato. O drama se desenrola enquanto os jurados confrontam preconceitos, dúvidas e a busca pela verdade.'}, {'nome': 'A Lista de Schindler', 'ano': 1993, 'sinopse': ' Dirigido por Steven Spielberg, o filme é baseado na história real de Oskar Schindler, um empresário alemão que salva a vida de mais de mil judeus durante o Holocausto, empregando-os em sua fábrica.'}, {'nome': 'O Senhor dos Anéis: O Retorno do Rei', 'ano': 2003, 'sinopse': ' O épico dirigido por Peter Jackson conclui a trilogia, mostrando a jornada de Frodo e Sam para destruir o Um Anel enquanto a Terra Média enfrenta a batalha final contra Sauron.'}, {'nome': 'Pulp Fiction - Tempo de Violência', 'ano': 1994, 'sinopse': ' Dirigido por Quentin Tarantino, o filme apresenta uma narrativa não linear que entrelaça várias histórias, explorando o submundo do crime de Los Angeles com diálogos marcantes e personagens peculiares.'}, {'nome': 'O Senhor dos Anéis: A Sociedade do Anel', 'ano': 2001, 'sinopse': ' O primeiro filme da trilogia segue a formação da Sociedade do Anel enquanto eles embarcam em uma jornada para destruir o Um Anel e derrotar o mal que ameaça a Terra Média.'}, {'nome': 'Três Homens em Conflito', 'ano': 1966, 'sinopse': ' Este clássico do spaghetti western, dirigido por Sergio Leone, conta a história de três caçadores de recompensas que buscam um tesouro enterrado durante a Guerra Civil Americana, enfrentando conflitos e traições ao longo do caminho.'}]\n"
          ]
        }
      ]
    }
  ]
}